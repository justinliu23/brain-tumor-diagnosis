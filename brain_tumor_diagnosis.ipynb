{
  "nbformat": 4,
  "nbformat_minor": 0,
  "metadata": {
    "colab": {
      "name": "Brain Tumor Diagnosis.ipynb",
      "provenance": [],
      "collapsed_sections": [],
      "mount_file_id": "1W-wB4fh1j8xlGfHq-_pszNIAvV05a3U9",
      "authorship_tag": "ABX9TyM7sk/+eDDyJQp7p2uNf2GR",
      "include_colab_link": true
    },
    "kernelspec": {
      "name": "python3",
      "display_name": "Python 3"
    },
    "accelerator": "GPU"
  },
  "cells": [
    {
      "cell_type": "markdown",
      "metadata": {
        "id": "view-in-github",
        "colab_type": "text"
      },
      "source": [
        "<a href=\"https://colab.research.google.com/github/SourLemon23/brain-tumor-diagnosis/blob/master/brain_tumor_diagnosis.ipynb\" target=\"_parent\"><img src=\"https://colab.research.google.com/assets/colab-badge.svg\" alt=\"Open In Colab\"/></a>"
      ]
    },
    {
      "cell_type": "code",
      "metadata": {
        "id": "XjjOAtntgVOi",
        "colab_type": "code",
        "colab": {}
      },
      "source": [
        "import numpy as np\n",
        "import tensorflow as tf\n",
        "from tensorflow import keras\n",
        "from tensorflow.keras.models import Sequential\n",
        "from tensorflow.keras.applications.resnet import ResNet50, preprocess_input, decode_predictions\n",
        "from tensorflow.keras.layers import Dense, Flatten, Dropout, Conv2D, MaxPooling2D, BatchNormalization\n",
        "from tensorflow.keras.preprocessing.image import ImageDataGenerator, load_img, img_to_array\n",
        "import matplotlib.pyplot as plt "
      ],
      "execution_count": 14,
      "outputs": []
    },
    {
      "cell_type": "code",
      "metadata": {
        "id": "wqhZS-bor5Kj",
        "colab_type": "code",
        "colab": {}
      },
      "source": [
        "# Dataset directories for Google Drive\n",
        "training_dir = r'/content/drive/My Drive/Colab Notebooks/Brain Tumor Diagnosis/brain_tumor_image_set/Training'\n",
        "testing_dir  = r'/content/drive/My Drive/Colab Notebooks/Brain Tumor Diagnosis/brain_tumor_image_set/Testing'\n",
        "# Dataset directories for a local machine\n",
        "# training_dir = r'brain_tumor_image_set/training'\n",
        "# testing_dir  = r'brain_tumor_image_set/testing'\n",
        "\n",
        "# Prediction sample paths\n",
        "glioma_path = r'/content/drive/My Drive/Colab Notebooks/Brain Tumor Diagnosis/Tumor Samples/Glioma/Glioma_1.jpeg'\n",
        "meningioma_path = r'/content/drive/My Drive/Colab Notebooks/Brain Tumor Diagnosis/Tumor Samples/Meningioma/Meningioma_1.jpeg'\n",
        "pituitary_path = r'/content/drive/My Drive/Colab Notebooks/Brain Tumor Diagnosis/Tumor Samples/Pituitary/Pituitary_1.jpg'\n",
        "normal_path = r'/content/drive/My Drive/Colab Notebooks/Brain Tumor Diagnosis/Tumor Samples/Normal/Normal_1.jpeg'"
      ],
      "execution_count": 15,
      "outputs": []
    },
    {
      "cell_type": "code",
      "metadata": {
        "id": "rVdTndo2sEa_",
        "colab_type": "code",
        "colab": {}
      },
      "source": [
        "# Initialize constants\n",
        "num_classes = 4\n",
        "img_width, img_height = 150, 150\n",
        "target_size = (img_width, img_height)\n",
        "input_shape = (img_width, img_height, 3)\n",
        "\n",
        "train_samples = 2870\n",
        "test_samples = 394\n",
        "batch_size = 20\n",
        "epochs = 1"
      ],
      "execution_count": 16,
      "outputs": []
    },
    {
      "cell_type": "code",
      "metadata": {
        "id": "ZJKmCSqIqFDe",
        "colab_type": "code",
        "colab": {}
      },
      "source": [
        "# Augment data\n",
        "train_data_gen = ImageDataGenerator(\n",
        "    rescale=1./255,\n",
        "    shear_range=0.2,\n",
        "    zoom_range=0.2,\n",
        "    horizontal_flip=True)\n",
        "\n",
        "test_data_gen = ImageDataGenerator(rescale=1./255)"
      ],
      "execution_count": 17,
      "outputs": []
    },
    {
      "cell_type": "code",
      "metadata": {
        "id": "2yL5qRmWqJ_t",
        "colab_type": "code",
        "colab": {
          "base_uri": "https://localhost:8080/",
          "height": 51
        },
        "outputId": "59865062-3ef1-4113-fec6-d944bac676f5"
      },
      "source": [
        "# Create data generators\n",
        "train_generator = train_data_gen.flow_from_directory(\n",
        "    training_dir,\n",
        "    target_size=target_size,\n",
        "    class_mode='categorical',\n",
        "    batch_size=batch_size,\n",
        "    shuffle=True)\n",
        "\n",
        "test_generator = test_data_gen.flow_from_directory(\n",
        "    testing_dir,\n",
        "    target_size=target_size,\n",
        "    class_mode='categorical',\n",
        "    batch_size=batch_size,\n",
        "    shuffle=False)"
      ],
      "execution_count": 18,
      "outputs": [
        {
          "output_type": "stream",
          "text": [
            "Found 2870 images belonging to 4 classes.\n",
            "Found 394 images belonging to 4 classes.\n"
          ],
          "name": "stdout"
        }
      ]
    },
    {
      "cell_type": "code",
      "metadata": {
        "id": "EOZMKyZrzsCT",
        "colab_type": "code",
        "colab": {}
      },
      "source": [
        "# Create a neural network\n",
        "def create_model():\n",
        "    model = Sequential()\n",
        "\n",
        "    model.add(ResNet50(\n",
        "        include_top=False,\n",
        "        weights='imagenet',\n",
        "        input_shape = input_shape))\n",
        "    model.add(Dropout(0.5))\n",
        "\n",
        "    model.add(Conv2D(16, (3, 3), activation = 'relu', padding='same', input_shape = input_shape))\n",
        "    model.add(MaxPooling2D(pool_size=(2, 2), padding='same'))\n",
        "    model.add(BatchNormalization())\n",
        "\n",
        "    model.add(Conv2D(32, (3, 3), activation = 'relu', padding='same'))\n",
        "    model.add(MaxPooling2D(pool_size=(2, 2), padding='same'))\n",
        "    model.add(BatchNormalization())\n",
        "\n",
        "    model.add(Flatten())\n",
        "    model.add(Dropout(0.2))\n",
        "    model.add(Dense(num_classes, activation='softmax'))\n",
        "\n",
        "    return model"
      ],
      "execution_count": 19,
      "outputs": []
    },
    {
      "cell_type": "code",
      "metadata": {
        "id": "sAjH_v2nrX-d",
        "colab_type": "code",
        "colab": {}
      },
      "source": [
        "# Print an overall summary of the model\n",
        "def print_model_summary(model):\n",
        "    model.summary()"
      ],
      "execution_count": 20,
      "outputs": []
    },
    {
      "cell_type": "code",
      "metadata": {
        "id": "Hq1iB5fEraE-",
        "colab_type": "code",
        "colab": {}
      },
      "source": [
        "# Configure model\n",
        "def compile_model(model):\n",
        "    model.compile(loss='categorical_crossentropy',\n",
        "                  optimizer='adam',\n",
        "                  metrics=['accuracy'])"
      ],
      "execution_count": 21,
      "outputs": []
    },
    {
      "cell_type": "code",
      "metadata": {
        "id": "rjaNqpx9rdcb",
        "colab_type": "code",
        "colab": {}
      },
      "source": [
        "# Train the model\n",
        "def fit_model(model):\n",
        "    history = model.fit(\n",
        "        train_generator,\n",
        "        epochs=epochs,\n",
        "        steps_per_epoch=(train_samples/batch_size),\n",
        "        validation_data=test_generator,\n",
        "        validation_steps=(test_samples/batch_size))\n",
        "    \n",
        "    return history"
      ],
      "execution_count": 22,
      "outputs": []
    },
    {
      "cell_type": "code",
      "metadata": {
        "id": "KhAtKxg8rfqI",
        "colab_type": "code",
        "colab": {}
      },
      "source": [
        "# Plot and evaluate the model\n",
        "def evaluate_model(history):\n",
        "    acc = history.history['accuracy']\n",
        "    val_acc = history.history['val_accuracy']\n",
        "\n",
        "    loss = history.history['loss']\n",
        "    val_loss = history.history['val_loss']\n",
        "\n",
        "    epochs_range = range(epochs)\n",
        "\n",
        "    plt.figure(figsize=(8, 8))\n",
        "    plt.subplot(1, 2, 1)\n",
        "    plt.plot(epochs_range, acc, label='Training Accuracy')\n",
        "    plt.plot(epochs_range, val_acc, label='Validation Accuracy')\n",
        "    plt.legend(loc='lower right')\n",
        "    plt.title('Training and Validation Accuracy')\n",
        "\n",
        "    plt.subplot(1, 2, 2)\n",
        "    plt.plot(epochs_range, loss, label='Training Loss')\n",
        "    plt.plot(epochs_range, val_loss, label='Validation Loss')\n",
        "    plt.legend(loc='upper right')\n",
        "    plt.title('Training and Validation Loss')\n",
        "    plt.show()"
      ],
      "execution_count": 23,
      "outputs": []
    },
    {
      "cell_type": "code",
      "metadata": {
        "id": "K5fkNRPnrhwg",
        "colab_type": "code",
        "colab": {}
      },
      "source": [
        "# Classify a tumor from an MRI scan\n",
        "def classify_tumor(model, img_path):\n",
        "    img = load_img(\n",
        "        img_path,\n",
        "        target_size=target_size)\n",
        "    \n",
        "    plt.imshow(img)\n",
        "\n",
        "    img_array = img_to_array(img)\n",
        "    print(\"NumPy array info:\", type(img_array))\n",
        "    print(\"type:\",img_array.dtype)\n",
        "    print(\"shape:\",img_array.shape)\n",
        "    # img_array = np.expand_dims(img_array, axis=0)\n",
        "    # # img_array = np.array(img_array)\n",
        "    img_array = preprocess_input(img_array)\n",
        "    \n",
        "    predictions = model.predict(img_array)\n",
        "    # network_guess = decode_predictions(predictions, top=1)\n",
        "    # network_guess = decode_predictions(predictions)\n",
        "    # print(predictions)\n",
        "\n",
        "    # print(img_array)\n",
        "    \n",
        "    # print(f'Network Prediction: {network_guess}')\n",
        "    # print(‘Network Prediction: ', network_guess)"
      ],
      "execution_count": 24,
      "outputs": []
    },
    {
      "cell_type": "code",
      "metadata": {
        "id": "IZp15PKHz3EC",
        "colab_type": "code",
        "colab": {
          "base_uri": "https://localhost:8080/",
          "height": 527
        },
        "outputId": "deef1cfa-c8a6-447c-d613-6ed9c5f4bf2a"
      },
      "source": [
        "model = create_model()\n",
        "print_model_summary(model)\n",
        "compile_model(model)"
      ],
      "execution_count": 25,
      "outputs": [
        {
          "output_type": "stream",
          "text": [
            "Model: \"sequential_1\"\n",
            "_________________________________________________________________\n",
            "Layer (type)                 Output Shape              Param #   \n",
            "=================================================================\n",
            "resnet50 (Functional)        (None, 5, 5, 2048)        23587712  \n",
            "_________________________________________________________________\n",
            "dropout_2 (Dropout)          (None, 5, 5, 2048)        0         \n",
            "_________________________________________________________________\n",
            "conv2d_2 (Conv2D)            (None, 5, 5, 16)          294928    \n",
            "_________________________________________________________________\n",
            "max_pooling2d_2 (MaxPooling2 (None, 3, 3, 16)          0         \n",
            "_________________________________________________________________\n",
            "batch_normalization_2 (Batch (None, 3, 3, 16)          64        \n",
            "_________________________________________________________________\n",
            "conv2d_3 (Conv2D)            (None, 3, 3, 32)          4640      \n",
            "_________________________________________________________________\n",
            "max_pooling2d_3 (MaxPooling2 (None, 2, 2, 32)          0         \n",
            "_________________________________________________________________\n",
            "batch_normalization_3 (Batch (None, 2, 2, 32)          128       \n",
            "_________________________________________________________________\n",
            "flatten_1 (Flatten)          (None, 128)               0         \n",
            "_________________________________________________________________\n",
            "dropout_3 (Dropout)          (None, 128)               0         \n",
            "_________________________________________________________________\n",
            "dense_1 (Dense)              (None, 4)                 516       \n",
            "=================================================================\n",
            "Total params: 23,887,988\n",
            "Trainable params: 23,834,772\n",
            "Non-trainable params: 53,216\n",
            "_________________________________________________________________\n"
          ],
          "name": "stdout"
        }
      ]
    },
    {
      "cell_type": "code",
      "metadata": {
        "id": "0CrhRgDDSVGX",
        "colab_type": "code",
        "colab": {
          "base_uri": "https://localhost:8080/",
          "height": 516
        },
        "outputId": "5dba428b-99ef-438b-93f0-4d9e3734daa3"
      },
      "source": [
        "history = fit_model(model)\n",
        "evaluate_model(history)"
      ],
      "execution_count": 26,
      "outputs": [
        {
          "output_type": "stream",
          "text": [
            "144/143 [==============================] - 1409s 10s/step - loss: 0.7498 - accuracy: 0.7188 - val_loss: 1.6079 - val_accuracy: 0.1878\n"
          ],
          "name": "stdout"
        },
        {
          "output_type": "display_data",
          "data": {
            "image/png": "[encoded data removed]",
            "text/plain": [
              "<Figure size 576x576 with 2 Axes>"
            ]
          },
          "metadata": {
            "tags": [],
            "needs_background": "light"
          }
        }
      ]
    },
    {
      "cell_type": "code",
      "metadata": {
        "id": "kjqaPR0NSXYO",
        "colab_type": "code",
        "colab": {}
      },
      "source": [
        "# classify_tumor(model, glioma_path)"
      ],
      "execution_count": 27,
      "outputs": []
    }
  ]
}